{
 "cells": [
  {
   "cell_type": "code",
   "execution_count": 1,
   "id": "0f6b880d",
   "metadata": {},
   "outputs": [],
   "source": [
    "import numpy as np\n",
    "import pandas as pd\n",
    "import matplotlib.pyplot as plt\n",
    "\n",
    "%matplotlib inline"
   ]
  },
  {
   "cell_type": "code",
   "execution_count": 2,
   "id": "3ba7042e",
   "metadata": {},
   "outputs": [],
   "source": [
    "df_airports = pd.read_csv('AP Data set 21-22/airports.csv')"
   ]
  },
  {
   "cell_type": "code",
   "execution_count": 3,
   "id": "b9aba565",
   "metadata": {},
   "outputs": [],
   "source": [
    "df_frequencies = pd.read_csv('AP Data set 21-22/airport-frequencies.csv')"
   ]
  },
  {
   "cell_type": "code",
   "execution_count": 4,
   "id": "d51ff820",
   "metadata": {},
   "outputs": [],
   "source": [
    "df_runways = pd.read_csv('AP Data set 21-22/runways.csv')"
   ]
  },
  {
   "cell_type": "code",
   "execution_count": 7,
   "id": "0192230d",
   "metadata": {},
   "outputs": [],
   "source": [
    "df = pd.concat([df_airports, df_frequencies, df_runways], axis=1, join='inner')"
   ]
  },
  {
   "cell_type": "code",
   "execution_count": 15,
   "id": "c8a74a19",
   "metadata": {},
   "outputs": [
    {
     "data": {
      "text/plain": [
       "(28962, 44)"
      ]
     },
     "execution_count": 15,
     "metadata": {},
     "output_type": "execute_result"
    }
   ],
   "source": [
    "df.shape"
   ]
  },
  {
   "cell_type": "code",
   "execution_count": null,
   "id": "2a2f0e31",
   "metadata": {},
   "outputs": [],
   "source": []
  }
 ],
 "metadata": {
  "kernelspec": {
   "display_name": "Python 3",
   "language": "python",
   "name": "python3"
  },
  "language_info": {
   "codemirror_mode": {
    "name": "ipython",
    "version": 3
   },
   "file_extension": ".py",
   "mimetype": "text/x-python",
   "name": "python",
   "nbconvert_exporter": "python",
   "pygments_lexer": "ipython3",
   "version": "3.8.8"
  }
 },
 "nbformat": 4,
 "nbformat_minor": 5
}
